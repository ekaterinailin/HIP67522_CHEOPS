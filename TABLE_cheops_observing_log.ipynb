{
 "cells": [
  {
   "cell_type": "code",
   "execution_count": 1,
   "metadata": {},
   "outputs": [],
   "source": [
    "import pandas as pd\n",
    "import numpy as np\n"
   ]
  },
  {
   "cell_type": "code",
   "execution_count": 54,
   "metadata": {},
   "outputs": [],
   "source": [
    "df = pd.read_csv(\"../data/CHEOPS_observing_log.csv\")\n",
    "\n",
    "df[\"File Key\"] = (\"CH\\_PR\" + df[\"Visit ID\"].astype(str).apply(lambda x: x[:6]) + \n",
    "           \"\\_TG\" + df[\"Visit ID\"].astype(str).apply(lambda x: x[6:]) + \n",
    "            \"\\_V\" + df[\"Revision\"].astype(str).apply(lambda x: x.zfill(2)) + \"00\" )\n",
    "\n",
    "df[\"Duration [h]\"] = ((pd.to_datetime(df[\"Obs Stop\"].astype(str).apply(lambda x: x.strip(\"T\")), format=\"mixed\") - \n",
    "                       pd.to_datetime(df[\"Obs Start\"].astype(str).apply(lambda x: x.strip(\"T\")), format=\"mixed\"))).values.astype(float) / 3600 / 1e9\n",
    "\n",
    "# round duration to 2 decimal places\n",
    "df[\"Duration [h]\"] = df[\"Duration [h]\"].apply(lambda x: np.round(x, 2))\n",
    "\n",
    "# convert to string and remove all decimals beyond 2\n",
    "df[\"Duration [h]\"] = df[\"Duration [h]\"].astype(str).apply(lambda x: x[:x.index(\".\") + 3])\n",
    "\n",
    "\n",
    "rename_dict = {\"Obs Start\": \"Start Date [UTC]\"}\n",
    "df = df.rename(columns=rename_dict)\n",
    "\n",
    "df[\"Start Date [UTC]\"] = pd.to_datetime(df[\"Start Date [UTC]\"].astype(str).apply(lambda x: x.strip(\"T\")), format=\"mixed\").dt.strftime(\"%Y-%m-%d %H:%M\")\n",
    "\n",
    "cols = [\"OBSID\", \"File Key\", \"Start Date [UTC]\", \"Duration [h]\"]\n",
    "sel = df[cols]"
   ]
  },
  {
   "cell_type": "code",
   "execution_count": 57,
   "metadata": {},
   "outputs": [
    {
     "name": "stdout",
     "output_type": "stream",
     "text": [
      "\\begin{tabular}{llll}\n",
      "\\hline\n",
      "OBSID & File Key & Start Date [UTC] & Duration [h] \\\\\n",
      "\\hline\n",
      "2365179 & CH\\_PR240004\\_TG000101\\_V0300 & 2024-03-09 05:09 & 13.18 \\\\\n",
      "2367052 & CH\\_PR240004\\_TG000102\\_V0300 & 2024-03-16 05:56 & 13.18 \\\\\n",
      "2370611 & CH\\_PR240004\\_TG000103\\_V0300 & 2024-03-23 03:34 & 13.18 \\\\\n",
      "2377976 & CH\\_PR240004\\_TG000104\\_V0300 & 2024-03-30 02:46 & 13.18 \\\\\n",
      "2406487 & CH\\_PR240004\\_TG000105\\_V0300 & 2024-05-10 20:52 & 13.8 \\\\\n",
      "2413239 & CH\\_PR240004\\_TG000106\\_V0300 & 2024-05-17 19:31 & 13.19 \\\\\n",
      "2421684 & CH\\_PR240004\\_TG000107\\_V0300 & 2024-05-24 17:53 & 15.04 \\\\\n",
      "2432394 & CH\\_PR240004\\_TG000108\\_V0300 & 2024-05-31 18:07 & 13.18 \\\\\n",
      "2444115 & CH\\_PR240004\\_TG000109\\_V0300 & 2024-06-07 16:58 & 13.18 \\\\\n",
      "2446774 & CH\\_PR240004\\_TG000110\\_V0300 & 2024-06-14 17:24 & 14.17 \\\\\n",
      "2455494 & CH\\_PR240004\\_TG000111\\_V0300 & 2024-06-21 14:03 & 13.18 \\\\\n",
      "2382459 & CH\\_PR240017\\_TG000101\\_V0300 & 2024-04-05 15:37 & 19.98 \\\\\n",
      "2382460 & CH\\_PR240017\\_TG000102\\_V0300 & 2024-04-12 14:38 & 19.1 \\\\\n",
      "2390044 & CH\\_PR240017\\_TG000103\\_V0300 & 2024-04-19 13:41 & 22.77 \\\\\n",
      "2402938 & CH\\_PR240017\\_TG000104\\_V0300 & 2024-05-03 12:11 & 19.29 \\\\\n",
      "2394579 & CH\\_PR240017\\_TG000501\\_V0300 & 2024-04-28 17:25 & 15.53 \\\\\n",
      "2383621 & CH\\_PR240017\\_TG000601\\_V0300 & 2024-04-11 10:48 & 15.53 \\\\\n",
      "2402943 & CH\\_PR240017\\_TG000701\\_V0300 & 2024-04-30 12:18 & 15.53 \\\\\n",
      "2366465 & CH\\_PR240017\\_TG000801\\_V0300 & 2024-03-11 08:35 & 17.82 \\\\\n",
      "2372811 & CH\\_PR240017\\_TG000901\\_V0300 & 2024-03-21 03:03 & 16.7 \\\\\n",
      "2435119 & CH\\_PR240017\\_TG001001\\_V0300 & 2024-05-26 15:30 & 16.65 \\\\\n",
      "\\hline\n",
      "\\end{tabular}\n",
      "\n"
     ]
    }
   ],
   "source": [
    "# convert sel to latex\n",
    "table = sel.to_latex(index=False, escape=False, column_format=\"llll\")\n",
    "\n",
    "# replace toprule and bottomrule with hline\n",
    "table = table.replace(\"\\\\toprule\", \"\\\\hline\")\n",
    "table = table.replace(\"\\\\bottomrule\", \"\\\\hline\")\n",
    "table = table.replace(\"\\\\midrule\", \"\\\\hline\")\n",
    "\n",
    "print(table)"
   ]
  },
  {
   "cell_type": "code",
   "execution_count": 58,
   "metadata": {},
   "outputs": [],
   "source": [
    "# save table to file\n",
    "with open(\"../tables/cheops_observing_log.tex\", \"w\") as f:\n",
    "    f.write(table)"
   ]
  }
 ],
 "metadata": {
  "kernelspec": {
   "display_name": "base",
   "language": "python",
   "name": "python3"
  },
  "language_info": {
   "codemirror_mode": {
    "name": "ipython",
    "version": 3
   },
   "file_extension": ".py",
   "mimetype": "text/x-python",
   "name": "python",
   "nbconvert_exporter": "python",
   "pygments_lexer": "ipython3",
   "version": "3.11.7"
  }
 },
 "nbformat": 4,
 "nbformat_minor": 2
}
